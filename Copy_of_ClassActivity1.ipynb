{
  "nbformat": 4,
  "nbformat_minor": 0,
  "metadata": {
    "colab": {
      "provenance": [],
      "include_colab_link": true
    },
    "kernelspec": {
      "name": "python3",
      "display_name": "Python 3"
    },
    "language_info": {
      "name": "python"
    }
  },
  "cells": [
    {
      "cell_type": "markdown",
      "metadata": {
        "id": "view-in-github",
        "colab_type": "text"
      },
      "source": [
        "<a href=\"https://colab.research.google.com/github/JJA32/Class-work/blob/main/Copy_of_ClassActivity1.ipynb\" target=\"_parent\"><img src=\"https://colab.research.google.com/assets/colab-badge.svg\" alt=\"Open In Colab\"/></a>"
      ]
    },
    {
      "cell_type": "markdown",
      "source": [
        "**Run the following samples of code. After you run them double click in the observation area below the code and add an explanation of what the code did and why you think the output occured. You will also answer the reflection questions at the bottom of the Try It Out. **\n",
        "\n"
      ],
      "metadata": {
        "id": "1fhnobtOXAUk"
      }
    },
    {
      "cell_type": "markdown",
      "source": [
        "# Input and Output"
      ],
      "metadata": {
        "id": "51TgW_TKcHeC"
      }
    },
    {
      "cell_type": "code",
      "source": [
        "# first program in python\n",
        "\n",
        "print('Hello World')\n",
        "print('Welcome to my first Python Program')\n",
        "print('I am excited to learn about \\nPython!')"
      ],
      "metadata": {
        "id": "V-nDTT0QXQQ4",
        "outputId": "5184ad69-5c58-4964-8e72-15a4cfe0e024",
        "colab": {
          "base_uri": "https://localhost:8080/"
        }
      },
      "execution_count": 3,
      "outputs": [
        {
          "output_type": "stream",
          "name": "stdout",
          "text": [
            "Hello World\n",
            "Welcome to my first Python Program\n",
            "I am excited to learn about \n",
            "Python!\n"
          ]
        }
      ]
    },
    {
      "cell_type": "code",
      "source": [],
      "metadata": {
        "id": "A82a5kuR5_E0"
      },
      "execution_count": null,
      "outputs": []
    },
    {
      "cell_type": "markdown",
      "source": [
        "**Your Observations: What is happening in the above code? What is \\n used for?**"
      ],
      "metadata": {
        "id": "0INOsGaPXo8C"
      }
    },
    {
      "cell_type": "markdown",
      "source": [],
      "metadata": {
        "id": "fgCvOxLa5-i_"
      }
    },
    {
      "cell_type": "code",
      "source": [],
      "metadata": {
        "id": "QWiUO3Wx5-Dd"
      },
      "execution_count": null,
      "outputs": []
    },
    {
      "cell_type": "markdown",
      "source": [
        "Run the following code that will allow you to input your name."
      ],
      "metadata": {
        "id": "VG03ctV5ob4O"
      }
    },
    {
      "cell_type": "code",
      "source": [
        "first = \"\"\n",
        "last = \"\"\n",
        "fullName = \"\"\n",
        "age = 0\n",
        "\n",
        "first = input(\"What is your first name? \")\n",
        "\n",
        "#add a line of code to print out your name\n"
      ],
      "metadata": {
        "id": "EhA91BDtoqVZ"
      },
      "execution_count": null,
      "outputs": []
    },
    {
      "cell_type": "markdown",
      "source": [
        "**Your Observations:\n",
        "What variable is your name being stored in?**\n",
        "\n",
        "**Now add a line of code to print out your first name. **\n",
        "\n"
      ],
      "metadata": {
        "id": "m6vq4rYwo_mc"
      }
    },
    {
      "cell_type": "markdown",
      "source": [
        "When using the command input, by default a string data type is returned. Observe the following code:"
      ],
      "metadata": {
        "id": "W8dxDSq3pYch"
      }
    },
    {
      "cell_type": "code",
      "source": [
        "age = 0\n",
        "\n",
        "age = int(input(\"What is your age? \"))"
      ],
      "metadata": {
        "id": "YCeLTJVApSmK"
      },
      "execution_count": null,
      "outputs": []
    },
    {
      "cell_type": "markdown",
      "source": [
        "**Your observation: What variable is used in this code? What is needed to cast input as an int? What is the = sign being used for?**"
      ],
      "metadata": {
        "id": "r36fUA6YqNLT"
      }
    },
    {
      "cell_type": "markdown",
      "source": [
        "# Concatenation"
      ],
      "metadata": {
        "id": "acbSjd6Wcm3A"
      }
    },
    {
      "cell_type": "markdown",
      "source": [
        "The + sign can be used to add numbers together in Python."
      ],
      "metadata": {
        "id": "DjX9Hw4MjoaO"
      }
    },
    {
      "cell_type": "code",
      "source": [
        "print(5+2+3)\n"
      ],
      "metadata": {
        "id": "yyg2Do-wXxrh"
      },
      "execution_count": null,
      "outputs": []
    },
    {
      "cell_type": "markdown",
      "source": [
        "**Your Observations:**"
      ],
      "metadata": {
        "id": "wPk7a-pbiwUf"
      }
    },
    {
      "cell_type": "markdown",
      "source": [
        "The + sign can also be used for concatenation. Concatenation allows the user to place items side by side."
      ],
      "metadata": {
        "id": "4hfrH7AMjvuh"
      }
    },
    {
      "cell_type": "code",
      "source": [
        "name = input('What is your name? ')\n",
        "\n",
        "print('Hello ' + name)"
      ],
      "metadata": {
        "id": "XsXPuLiGevg9"
      },
      "execution_count": null,
      "outputs": []
    },
    {
      "cell_type": "markdown",
      "source": [
        "If we try to concatenate a number and literal text the number must first be cast as a string."
      ],
      "metadata": {
        "id": "Jt--7-J_etla"
      }
    },
    {
      "cell_type": "code",
      "source": [
        "print(\"The Number: \" + str(4) + \" is the answer \")"
      ],
      "metadata": {
        "colab": {
          "base_uri": "https://localhost:8080/"
        },
        "id": "4jBJ8ezSj9kJ",
        "outputId": "1d673e3e-0359-4dda-d388-9712f10de52c"
      },
      "execution_count": null,
      "outputs": [
        {
          "output_type": "stream",
          "name": "stdout",
          "text": [
            "The Number: 4 is the answer \n"
          ]
        }
      ]
    },
    {
      "cell_type": "markdown",
      "source": [
        "A comma can also be used to concatenate. By using the comma it concatenates a space automatically."
      ],
      "metadata": {
        "id": "Zokc_eF9kPZ8"
      }
    },
    {
      "cell_type": "code",
      "source": [
        "print(\"The Number:\", 4, \"is the answer \")"
      ],
      "metadata": {
        "id": "-DbS9m9Nks-x"
      },
      "execution_count": null,
      "outputs": []
    },
    {
      "cell_type": "markdown",
      "source": [
        "**Your turn! Add a line of code to the following program, use concatenation to output the full name in one print line with a label for full name.**"
      ],
      "metadata": {
        "id": "Ex2AjaUVfw1q"
      }
    },
    {
      "cell_type": "code",
      "source": [
        "first = input('What is your first name? ')\n",
        "middle = input('What is your middle name? ')\n",
        "last = input ('What is your last name? ')\n",
        "\n",
        "#output full name with a label"
      ],
      "metadata": {
        "id": "m6opO6ymgEUJ"
      },
      "execution_count": null,
      "outputs": []
    },
    {
      "cell_type": "markdown",
      "source": [
        "# Errors"
      ],
      "metadata": {
        "id": "1CsRJ4OBG9dS"
      }
    },
    {
      "cell_type": "markdown",
      "source": [
        "Correct 3 syntax errors in the following code so that the program gets the favorite color as input and displays the print line."
      ],
      "metadata": {
        "id": "Fw5NZZwAHCxF"
      }
    },
    {
      "cell_type": "code",
      "source": [
        "color = ('What is your favorite color? ')\n",
        "\n",
        "prit('Wow', color, 'is my favorite too!)\n"
      ],
      "metadata": {
        "id": "7BtJP4rSHgXz"
      },
      "execution_count": null,
      "outputs": []
    },
    {
      "cell_type": "markdown",
      "source": [
        "# Arithmetic Operators"
      ],
      "metadata": {
        "id": "x3vI4a5uLfwf"
      }
    },
    {
      "cell_type": "markdown",
      "source": [
        "*Run the following samples of code. After you run them double click to record your observations or answer the reflection questions.\n",
        "\n",
        "Observe the following lines of code to see what you notice about the math operators. Practice using the # sign to create comments. A comment is a line in the code that will not execute. Only the first line of code is currently active. Use the # to comment out code you do not want to run. Remove the # sign to run each line of code one at a time. The + sign can be used for both concatenation and addition in the same print line."
      ],
      "metadata": {
        "id": "L9bIhEkpLpRu"
      }
    },
    {
      "cell_type": "code",
      "source": [
        "print(\"The Answer is: \" + str(40 + 2))\n",
        "#print(str(4) + str(2) + \": Life, the universe and everything\" )\n",
        "#print(\"PI: \" + str(float(3.14159)))\n",
        "#print(\"PI: \" + str(int(3.14159)))\n",
        "#print(\"Int Division \" + str(int(10 / 4 )))\n",
        "#print(\"Int Division \" + str(10 // 4))\n",
        "#print(\"Floating Point Division \" + str(10.0 / 4))\n",
        "#print(\"Type Casting as float \" + str(float(10 / 4)))\n",
        "#print(\"Type Casting as int \" + str(int(10.5 / 4 )))\n",
        "#print(\"Mod: \" + str(17 % 3 ))\n",
        "#print(\"Order of Operations \" + str(2 + 5 / 3 ))\n",
        "#print(\"Order of Operations  \" + str(( 2 + 5 ) / 3 ));\n",
        "#print(\"Order Matters \" + str(int( 1.9) + int(1.9 )));\n",
        "#print(\"Order Matters \" + str(int( 1.9 + 1.9 )));\n",
        "#print(\"Order and Data Type Matter \" + str(1.9 + 1.9 ));\n",
        "#print(\"Rounding: \" + str(round(1.9 + 1.9, 0)));"
      ],
      "metadata": {
        "id": "Ly4aXc1FLtR-"
      },
      "execution_count": null,
      "outputs": []
    },
    {
      "cell_type": "markdown",
      "source": [
        "Reflection Questions\n",
        "\n",
        "When do the numbers get added together as opposed to just being put next together in the output?\n",
        "\n",
        "What happens when you use (int) in front of a number with decimals? How about float?\n",
        "\n",
        "Are there any order of operations that are similar to Math? Are there any that are new to you or different from math?"
      ],
      "metadata": {
        "id": "nPrkLqWiLydk"
      }
    },
    {
      "cell_type": "markdown",
      "source": [
        "# Programming Math and Types"
      ],
      "metadata": {
        "id": "dDPCRHB-L7Vk"
      }
    },
    {
      "cell_type": "markdown",
      "source": [
        "1. Run the program below.  Enter the value 32 when it prompts you.  Does the program seem to work?\n",
        "2. What are the two variables named?\n",
        "4. Look at the “Get the Input” section.  What command allows the program to allow the user to enter something?\n",
        "5. The variable fahrenheit is going to store what data type?\n",
        "6. Run the program again.  This time enter the value 50.5.  Why do you think it crashes?\n",
        "7. Change the cast of the input result so that the variable fahrenheit stores decimals.  (Use float instead of int)\n",
        "9. Run the program again.  Enter the value 50.5.  Did the program crash?\n",
        "Look at the answer.  Is this correct?\n",
        "10. Look at the “Do the Math” section of the code.  Is there anything there that would cause the output to be 0? (Hint: What happens when you have //?)  \n",
        "11. Fix the error in the code and run the program a few more times to test it out."
      ],
      "metadata": {
        "id": "HvhkjMQpMBtH"
      }
    },
    {
      "cell_type": "code",
      "source": [
        "#get the input\n",
        "fahrenheit = int(input(\"Enter a Temperature in fahrenheit: \"))\n",
        "\n",
        "#do the math\n",
        "celsius = 5//9 * (fahrenheit - 32)\n",
        "\n",
        "#display the answer\n",
        "print(fahrenheit, \"is\", celsius, \" in Celsius\")"
      ],
      "metadata": {
        "id": "juCgAhYvMOaO"
      },
      "execution_count": null,
      "outputs": []
    },
    {
      "cell_type": "markdown",
      "source": [
        "Create your own code below!\n",
        "\n",
        "Use something you just learned to write a small unique program that we will share as a class."
      ],
      "metadata": {
        "id": "hTlD-S4qMSQg"
      }
    },
    {
      "cell_type": "code",
      "source": [],
      "metadata": {
        "id": "pL5VTvhpMQ4E"
      },
      "execution_count": null,
      "outputs": []
    }
  ]
}